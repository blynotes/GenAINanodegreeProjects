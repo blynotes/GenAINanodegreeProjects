{
 "cells": [
  {
   "cell_type": "markdown",
   "id": "124e5672",
   "metadata": {},
   "source": [
    "# Custom Chatbot Project"
   ]
  },
  {
   "cell_type": "markdown",
   "id": "2a4a94b3",
   "metadata": {},
   "source": [
    "TODO: In this cell, write an explanation of which dataset you have chosen and why it is appropriate for this task\n",
    "\n",
    "I have chosen the list of Star Wars Characters from Wikipedia for this project. With 191 characters, this is a great dataset to ask questions about."
   ]
  },
  {
   "cell_type": "markdown",
   "id": "a63d4c5f",
   "metadata": {},
   "source": [
    "## Data Wrangling\n",
    "\n",
    "TODO: In the cells below, load your chosen dataset into a `pandas` dataframe with a column named `\"text\"`. This column should contain all of your text data, separated into at least 20 rows."
   ]
  },
  {
   "cell_type": "code",
   "execution_count": 57,
   "id": "c69b83a1",
   "metadata": {},
   "outputs": [],
   "source": [
    "import csv\n",
    "import numpy as np\n",
    "import pandas as pd\n",
    "import re\n",
    "import requests"
   ]
  },
  {
   "cell_type": "code",
   "execution_count": 2,
   "id": "0a595980",
   "metadata": {},
   "outputs": [],
   "source": [
    "# https://en.wikipedia.org/w/api.php?action=help&modules=query%2Bextracts\n",
    "params = {\n",
    "    \"action\": \"query\", \n",
    "    \"prop\": \"extracts\",\n",
    "    \"exlimit\": 1,\n",
    "    \"titles\": \"List_of_Star_Wars_characters\",\n",
    "    \"explaintext\": 1,\n",
    "    \"formatversion\": 2,\n",
    "    \"format\": \"json\"\n",
    "}\n",
    "resp = requests.get(\"https://en.wikipedia.org/w/api.php\", params=params)\n",
    "response_dict = resp.json()"
   ]
  },
  {
   "cell_type": "code",
   "execution_count": 9,
   "id": "1c7a3043",
   "metadata": {},
   "outputs": [
    {
     "data": {
      "text/plain": [
       "294"
      ]
     },
     "execution_count": 9,
     "metadata": {},
     "output_type": "execute_result"
    }
   ],
   "source": [
    "extract = response_dict[\"query\"][\"pages\"][0][\"extract\"].split('\\n\\n\\n')\n",
    "len(extract)"
   ]
  },
  {
   "cell_type": "code",
   "execution_count": 14,
   "id": "1dab6c32",
   "metadata": {},
   "outputs": [
    {
     "data": {
      "text/plain": [
       "['This incomplete list of characters from the Star Wars franchise contains only those which are considered part of the official Star Wars canon, as of the changes made by Lucasfilm in April 2014. Following its acquisition by The Walt Disney Company in 2012, Lucasfilm rebranded most of the novels, comics, video games and other works produced since the originating 1977 film Star Wars as Star Wars Legends and declared them non-canon to the rest of the franchise. As such, the list contains only information from the Skywalker Saga films, the 2008 animated TV series Star Wars: The Clone Wars, and other films, shows, or video games published or produced after April 2014.\\nThe list includes humans and various alien species. No droid characters are included; for those, see the list of Star Wars droid characters. Some of the characters featured in this list have additional or alternate plotlines in the non-canonical Legends continuity. To see those or characters who do not exist at all in the current Star Wars canon, see the list of Star Wars Legends characters and list of Star Wars: Knights of the Old Republic characters.',\n",
       " '== A ==',\n",
       " '=== Gial Ackbar ===',\n",
       " '=== Stass Allie ===\\nStass Allie is a Tholothian Jedi Master and the cousin of Adi Gallia. Allie is one of the many victims of Order 66. She was initially planned to die with Kit Fisto.The character has been portrayed by Lily Nyamwasa in Episode III.',\n",
       " \"=== Almec ===\\nAlmec is a Mandalorian politician who serves as Prime Minister of Mandalore during the Clone Wars. A prominent supporter of Satine Kryze and her New Mandalorian government, he is imprisoned for his involvement in an illegal smuggling ring but is later freed and reinstated as a puppet leader after Darth Maul takes over the New Mandalorian capital city of Sundari. When Maul is later captured by Darth Sidious, Almec sends Mandalorian super commandos Gar Saxon and Rook Kast to rescue him. During the Siege of Mandalore, he is captured by Bo-Katan Kryze's force and is killed by Saxon when he attempts to relay information to Ahsoka, Rex, and Bo-Katan.The character has been voiced by Julian Holloway in The Clone Wars.\"]"
      ]
     },
     "execution_count": 14,
     "metadata": {},
     "output_type": "execute_result"
    }
   ],
   "source": [
    "extract[:5]"
   ]
  },
  {
   "cell_type": "code",
   "execution_count": 11,
   "id": "dfb2de21",
   "metadata": {},
   "outputs": [
    {
     "data": {
      "text/plain": [
       "191"
      ]
     },
     "execution_count": 11,
     "metadata": {},
     "output_type": "execute_result"
    }
   ],
   "source": [
    "# Only want entries that have \"\"===\\n\" in them\n",
    "# The character name is wrapped in ===, followed by a newline and the description.\n",
    "characters = [c for c  in extract if '===\\n' in c]\n",
    "len(characters)"
   ]
  },
  {
   "cell_type": "code",
   "execution_count": 16,
   "id": "201954d8",
   "metadata": {},
   "outputs": [
    {
     "data": {
      "text/plain": [
       "['=== Stass Allie ===\\nStass Allie is a Tholothian Jedi Master and the cousin of Adi Gallia. Allie is one of the many victims of Order 66. She was initially planned to die with Kit Fisto.The character has been portrayed by Lily Nyamwasa in Episode III.',\n",
       " \"=== Almec ===\\nAlmec is a Mandalorian politician who serves as Prime Minister of Mandalore during the Clone Wars. A prominent supporter of Satine Kryze and her New Mandalorian government, he is imprisoned for his involvement in an illegal smuggling ring but is later freed and reinstated as a puppet leader after Darth Maul takes over the New Mandalorian capital city of Sundari. When Maul is later captured by Darth Sidious, Almec sends Mandalorian super commandos Gar Saxon and Rook Kast to rescue him. During the Siege of Mandalore, he is captured by Bo-Katan Kryze's force and is killed by Saxon when he attempts to relay information to Ahsoka, Rex, and Bo-Katan.The character has been voiced by Julian Holloway in The Clone Wars.\"]"
      ]
     },
     "execution_count": 16,
     "metadata": {},
     "output_type": "execute_result"
    }
   ],
   "source": [
    "characters[:2]"
   ]
  },
  {
   "cell_type": "code",
   "execution_count": 49,
   "id": "f72359c9",
   "metadata": {},
   "outputs": [
    {
     "data": {
      "text/plain": [
       "191"
      ]
     },
     "execution_count": 49,
     "metadata": {},
     "output_type": "execute_result"
    }
   ],
   "source": [
    "charRE = re.compile('=== ([^=]+) ===(.+)')\n",
    "\n",
    "charList = []\n",
    "\n",
    "for char in characters:\n",
    "    char = char.replace('\\n', ' ')\n",
    "    m = charRE.match(char)\n",
    "    if not m:\n",
    "        print(f'No regex match for {char}')\n",
    "        continue\n",
    "    \n",
    "    # Remove leading and trailing whitespace\n",
    "    name = m.group(1).strip()\n",
    "    desc = m.group(2).strip()\n",
    "    \n",
    "    charList.append(f'{name} => {desc}')\n",
    "\n",
    "df = pd.DataFrame({'text': charList})\n",
    "len(df)"
   ]
  },
  {
   "cell_type": "code",
   "execution_count": 50,
   "id": "95a7703e",
   "metadata": {},
   "outputs": [
    {
     "data": {
      "text/html": [
       "<div>\n",
       "<style scoped>\n",
       "    .dataframe tbody tr th:only-of-type {\n",
       "        vertical-align: middle;\n",
       "    }\n",
       "\n",
       "    .dataframe tbody tr th {\n",
       "        vertical-align: top;\n",
       "    }\n",
       "\n",
       "    .dataframe thead th {\n",
       "        text-align: right;\n",
       "    }\n",
       "</style>\n",
       "<table border=\"1\" class=\"dataframe\">\n",
       "  <thead>\n",
       "    <tr style=\"text-align: right;\">\n",
       "      <th></th>\n",
       "      <th>text</th>\n",
       "    </tr>\n",
       "  </thead>\n",
       "  <tbody>\n",
       "    <tr>\n",
       "      <th>0</th>\n",
       "      <td>Stass Allie =&gt; Stass Allie is a Tholothian Jed...</td>\n",
       "    </tr>\n",
       "    <tr>\n",
       "      <th>1</th>\n",
       "      <td>Almec =&gt; Almec is a Mandalorian politician who...</td>\n",
       "    </tr>\n",
       "    <tr>\n",
       "      <th>2</th>\n",
       "      <td>Mas Amedda =&gt; Mas Amedda is the Chagrian Vice ...</td>\n",
       "    </tr>\n",
       "    <tr>\n",
       "      <th>3</th>\n",
       "      <td>Maarva Andor =&gt; Maarva Andor is a human female...</td>\n",
       "    </tr>\n",
       "    <tr>\n",
       "      <th>4</th>\n",
       "      <td>Raymus Antilles =&gt; Raymus Antilles is captain ...</td>\n",
       "    </tr>\n",
       "    <tr>\n",
       "      <th>...</th>\n",
       "      <td>...</td>\n",
       "    </tr>\n",
       "    <tr>\n",
       "      <th>186</th>\n",
       "      <td>Hamato Xiono =&gt; Hamato Xiono is a human male s...</td>\n",
       "    </tr>\n",
       "    <tr>\n",
       "      <th>187</th>\n",
       "      <td>Yaddle =&gt; Yaddle is a female member of Yoda's ...</td>\n",
       "    </tr>\n",
       "    <tr>\n",
       "      <th>188</th>\n",
       "      <td>Wullf Yularen =&gt; Wullf Yularen is an Imperial ...</td>\n",
       "    </tr>\n",
       "    <tr>\n",
       "      <th>189</th>\n",
       "      <td>Ziro the Hutt =&gt; Ziro is a Galactic Basic-spea...</td>\n",
       "    </tr>\n",
       "    <tr>\n",
       "      <th>190</th>\n",
       "      <td>Zuckuss =&gt; Zuckuss is a Gand bounty hunter amo...</td>\n",
       "    </tr>\n",
       "  </tbody>\n",
       "</table>\n",
       "<p>191 rows × 1 columns</p>\n",
       "</div>"
      ],
      "text/plain": [
       "                                                  text\n",
       "0    Stass Allie => Stass Allie is a Tholothian Jed...\n",
       "1    Almec => Almec is a Mandalorian politician who...\n",
       "2    Mas Amedda => Mas Amedda is the Chagrian Vice ...\n",
       "3    Maarva Andor => Maarva Andor is a human female...\n",
       "4    Raymus Antilles => Raymus Antilles is captain ...\n",
       "..                                                 ...\n",
       "186  Hamato Xiono => Hamato Xiono is a human male s...\n",
       "187  Yaddle => Yaddle is a female member of Yoda's ...\n",
       "188  Wullf Yularen => Wullf Yularen is an Imperial ...\n",
       "189  Ziro the Hutt => Ziro is a Galactic Basic-spea...\n",
       "190  Zuckuss => Zuckuss is a Gand bounty hunter amo...\n",
       "\n",
       "[191 rows x 1 columns]"
      ]
     },
     "execution_count": 50,
     "metadata": {},
     "output_type": "execute_result"
    }
   ],
   "source": [
    "df"
   ]
  },
  {
   "cell_type": "code",
   "execution_count": 51,
   "id": "20ec82cb",
   "metadata": {},
   "outputs": [],
   "source": [
    "# Backup data\n",
    "df.to_csv('./data/starwars_characters.csv', index=False)"
   ]
  },
  {
   "cell_type": "markdown",
   "id": "ae769871",
   "metadata": {},
   "source": [
    "## Custom Query Completion\n",
    "\n",
    "TODO: In the cells below, compose a custom query using your chosen dataset and retrieve results from an OpenAI `Completion` model. You may copy and paste any useful code from the course materials."
   ]
  },
  {
   "cell_type": "code",
   "execution_count": 52,
   "id": "582f0656",
   "metadata": {},
   "outputs": [],
   "source": [
    "import openai\n",
    "# TODO: Change this back to \"YOUR API KEY\" before submitting\n",
    "openai.api_key = \"YOUR API KEY\""
   ]
  },
  {
   "cell_type": "code",
   "execution_count": 55,
   "id": "739eba0a",
   "metadata": {},
   "outputs": [],
   "source": [
    "# Code from course materials\n",
    "# Create embeddings\n",
    "EMBEDDING_MODEL_NAME = \"text-embedding-ada-002\"\n",
    "batch_size = 100\n",
    "embeddings = []\n",
    "for i in range(0, len(df), batch_size):\n",
    "    # Send text data to OpenAI model to get embeddings\n",
    "    response = openai.Embedding.create(\n",
    "        input=df.iloc[i:i+batch_size][\"text\"].tolist(),\n",
    "        engine=EMBEDDING_MODEL_NAME\n",
    "    )\n",
    "\n",
    "    # Add embeddings to list\n",
    "    embeddings.extend([data[\"embedding\"] for data in response[\"data\"]])\n",
    "\n",
    "# Add embeddings list to dataframe\n",
    "df[\"embeddings\"] = embeddings"
   ]
  },
  {
   "cell_type": "code",
   "execution_count": 58,
   "id": "749a1ca7",
   "metadata": {},
   "outputs": [],
   "source": [
    "# Code from course materials\n",
    "# Make sure nested data structure is treated as such\n",
    "df[\"embeddings\"] = df[\"embeddings\"].apply(np.array)"
   ]
  },
  {
   "cell_type": "code",
   "execution_count": 59,
   "id": "b49a5de7",
   "metadata": {},
   "outputs": [],
   "source": [
    "# Code from course materials\n",
    "from openai.embeddings_utils import get_embedding, distances_from_embeddings\n",
    "\n",
    "# Find cosine similarity\n",
    "def get_rows_sorted_by_relevance(question, df):\n",
    "    \"\"\"\n",
    "    Function that takes in a question string and a dataframe containing\n",
    "    rows of text and associated embeddings, and returns that dataframe\n",
    "    sorted from least to most relevant for that question\n",
    "    \"\"\"\n",
    "\n",
    "    # Get embeddings for the question text\n",
    "    question_embeddings = get_embedding(question, engine=EMBEDDING_MODEL_NAME)\n",
    "\n",
    "    # Make a copy of the dataframe and add a \"distances\" column containing\n",
    "    # the cosine distances between each row's embeddings and the\n",
    "    # embeddings of the question\n",
    "    df_copy = df.copy()\n",
    "    df_copy[\"distances\"] = distances_from_embeddings(\n",
    "        question_embeddings,\n",
    "        df_copy[\"embeddings\"].values,\n",
    "        distance_metric=\"cosine\"\n",
    "    )\n",
    "\n",
    "    # Sort the copied dataframe by the distances and return it\n",
    "    # (shorter distance = more relevant so we sort in ascending order)\n",
    "    df_copy.sort_values(\"distances\", ascending=True, inplace=True)\n",
    "    return df_copy"
   ]
  },
  {
   "cell_type": "code",
   "execution_count": 60,
   "id": "156649da",
   "metadata": {},
   "outputs": [],
   "source": [
    "# Code from course materials\n",
    "import tiktoken\n",
    "\n",
    "def create_prompt(question, df, max_token_count):\n",
    "    \"\"\"\n",
    "    Given a question and a dataframe containing rows of text and their\n",
    "    embeddings, return a text prompt to send to a Completion model\n",
    "    \"\"\"\n",
    "    # Create a tokenizer that is designed to align with our embeddings\n",
    "    tokenizer = tiktoken.get_encoding(\"cl100k_base\")\n",
    "\n",
    "    # Count the number of tokens in the prompt template and question\n",
    "    prompt_template = \"\"\"\n",
    "Answer the question based on the context below, and if the question\n",
    "can't be answered based on the context, say \"I don't know\"\n",
    "\n",
    "Context: \n",
    "\n",
    "{}\n",
    "\n",
    "---\n",
    "\n",
    "Question: {}\n",
    "Answer:\"\"\"\n",
    "\n",
    "    current_token_count = len(tokenizer.encode(prompt_template)) + \\\n",
    "                            len(tokenizer.encode(question))\n",
    "\n",
    "    context = []\n",
    "    for text in get_rows_sorted_by_relevance(question, df)[\"text\"].values:\n",
    "\n",
    "        # Increase the counter based on the number of tokens in this row\n",
    "        text_token_count = len(tokenizer.encode(text))\n",
    "        current_token_count += text_token_count\n",
    "\n",
    "        # Add the row of text to the list if we haven't exceeded the max\n",
    "        if current_token_count <= max_token_count:\n",
    "            context.append(text)\n",
    "        else:\n",
    "            break\n",
    "\n",
    "    return prompt_template.format(\"\\n\\n###\\n\\n\".join(context), question)"
   ]
  },
  {
   "cell_type": "code",
   "execution_count": 61,
   "id": "8b6e1f75",
   "metadata": {},
   "outputs": [],
   "source": [
    "# Code from course materials\n",
    "COMPLETION_MODEL_NAME = \"gpt-3.5-turbo-instruct\"\n",
    "\n",
    "def answer_question(\n",
    "    question, df, max_prompt_tokens=1800, max_answer_tokens=150\n",
    "):\n",
    "    \"\"\"\n",
    "    Given a question, a dataframe containing rows of text, and a maximum\n",
    "    number of desired tokens in the prompt and response, return the\n",
    "    answer to the question according to an OpenAI Completion model\n",
    "\n",
    "    If the model produces an error, return an empty string\n",
    "    \"\"\"\n",
    "\n",
    "    prompt = create_prompt(question, df, max_prompt_tokens)\n",
    "\n",
    "    try:\n",
    "        response = openai.Completion.create(\n",
    "            model=COMPLETION_MODEL_NAME,\n",
    "            prompt=prompt,\n",
    "            max_tokens=max_answer_tokens\n",
    "        )\n",
    "        return response[\"choices\"][0][\"text\"].strip()\n",
    "    except Exception as e:\n",
    "        print(e)\n",
    "        return \"\""
   ]
  },
  {
   "cell_type": "code",
   "execution_count": null,
   "id": "74280b92",
   "metadata": {},
   "outputs": [],
   "source": []
  },
  {
   "cell_type": "markdown",
   "id": "1783f146",
   "metadata": {},
   "source": [
    "## Custom Performance Demonstration\n",
    "\n",
    "TODO: In the cells below, demonstrate the performance of your custom query using at least 2 questions. For each question, show the answer from a basic `Completion` model query as well as the answer from your custom query."
   ]
  },
  {
   "cell_type": "code",
   "execution_count": 64,
   "id": "60746f23",
   "metadata": {},
   "outputs": [],
   "source": [
    "# Basic completion model helper function without custom prompt\n",
    "def answer_without_custom_prompt(\n",
    "    question, df, max_answer_tokens=150\n",
    "):\n",
    "    \"\"\"\n",
    "    Given a question, a dataframe containing rows of text, and a maximum\n",
    "    number of desired tokens in the prompt and response, return the\n",
    "    answer to the question according to an OpenAI Completion model\n",
    "\n",
    "    If the model produces an error, return an empty string\n",
    "    \"\"\"\n",
    "\n",
    "    try:\n",
    "        response = openai.Completion.create(\n",
    "            model=COMPLETION_MODEL_NAME,\n",
    "            prompt=question,\n",
    "            max_tokens=max_answer_tokens\n",
    "        )\n",
    "        return response[\"choices\"][0][\"text\"].strip()\n",
    "    except Exception as e:\n",
    "        print(e)\n",
    "        return \"\""
   ]
  },
  {
   "cell_type": "markdown",
   "id": "4f11fdc0",
   "metadata": {},
   "source": [
    "### Question 1"
   ]
  },
  {
   "cell_type": "code",
   "execution_count": 74,
   "id": "4901c850",
   "metadata": {},
   "outputs": [
    {
     "data": {
      "text/plain": [
       "'The Father, Rio Durant, Yarael Poof, Tan Divo, Jek Porkins, The Son, The Daughter, Katuunko, Onaconda Farr, Rugor Nass, Dak Ralter, Dryden Vos, Saesee Tiin, and Poggle the Lesser.'"
      ]
     },
     "execution_count": 74,
     "metadata": {},
     "output_type": "execute_result"
    }
   ],
   "source": [
    "answer_question('Who died?', df)"
   ]
  },
  {
   "cell_type": "code",
   "execution_count": 75,
   "id": "bd7a093b",
   "metadata": {},
   "outputs": [
    {
     "data": {
      "text/plain": [
       "'I cannot answer that question without more information.'"
      ]
     },
     "execution_count": 75,
     "metadata": {},
     "output_type": "execute_result"
    }
   ],
   "source": [
    "answer_without_custom_prompt('Who died?', df)"
   ]
  },
  {
   "cell_type": "markdown",
   "id": "6e86e37c",
   "metadata": {},
   "source": [
    "### Question 2"
   ]
  },
  {
   "cell_type": "code",
   "execution_count": 67,
   "id": "6f646989",
   "metadata": {},
   "outputs": [
    {
     "data": {
      "text/plain": [
       "'Owen Lars and Beru Lars are step-siblings. Rafa and Trace Martez are siblings. Steela Gerrera and Saw Gerrera are siblings.'"
      ]
     },
     "execution_count": 67,
     "metadata": {},
     "output_type": "execute_result"
    }
   ],
   "source": [
    "answer_question('Who are siblings?', df)"
   ]
  },
  {
   "cell_type": "code",
   "execution_count": 68,
   "id": "11c07a54",
   "metadata": {},
   "outputs": [
    {
     "data": {
      "text/plain": [
       "'Siblings are individuals who share one or both parents, either biologically or through adoption. They are brothers and sisters who are part of the same family and are related by blood or legal familial ties. Siblings can have varying relationships, but they share a common bond and are usually raised together in the same household.'"
      ]
     },
     "execution_count": 68,
     "metadata": {},
     "output_type": "execute_result"
    }
   ],
   "source": [
    "answer_without_custom_prompt('Who are siblings?', df)"
   ]
  },
  {
   "cell_type": "markdown",
   "id": "f69e04e8",
   "metadata": {},
   "source": [
    "## Interactive Question/Answering"
   ]
  },
  {
   "cell_type": "code",
   "execution_count": 71,
   "id": "443309d2",
   "metadata": {},
   "outputs": [
    {
     "name": "stdout",
     "output_type": "stream",
     "text": [
      "Ask your question (q/quit to exit): Who are aliens?\n",
      "WITH CUSTOM PROMPT: The Bendu is an ancient Force-wielder whose philosophy predates the Jedi Order; encountered by the rebels on the planet Atollon, where he describes himself as being \"the middle\" between the ashla, light side of the Force, and the bogan, dark side of the Force.\n",
      "WITHOUT CUSTOM PROMPT: Aliens are hypothetical extraterrestrial beings from other planets or galaxies that are believed to exist beyond Earth. They are often depicted in science fiction as intelligent, technologically advanced beings that may have different physical characteristics and abilities than humans. There is currently no scientific evidence to prove the existence of aliens, and any claims or sightings of extraterrestrial life have not been confirmed.\n",
      "\n",
      "\n",
      "=====\n",
      "\n",
      "\n",
      "Ask your question (q/quit to exit): Who had their arm cut off?\n",
      "WITH CUSTOM PROMPT: Ponda Baba\n",
      "WITHOUT CUSTOM PROMPT: It is unclear who had their arm cut off. Please provide more context for the question.\n",
      "\n",
      "\n",
      "=====\n",
      "\n",
      "\n",
      "Ask your question (q/quit to exit): Who are gangsters?\n",
      "WITH CUSTOM PROMPT: Azmorigan, Hondo Ohnaka, Enfys Nest, Cikatro Vizago, DJ, Bossk, and Garsa Fwip are all gangsters.\n",
      "WITHOUT CUSTOM PROMPT: Gangsters are members of organized criminal groups that engage in illegal activities such as drug trafficking, extortion, and violence for personal gain. They are often involved in a hierarchy within the group and use violence and intimidation to maintain control and power. Gangsters are portrayed in popular culture as glamorous and wealthy figures, but in reality, they often come from disadvantaged backgrounds and lead dangerous and unpredictable lives.\n",
      "\n",
      "\n",
      "=====\n",
      "\n",
      "\n",
      "Ask your question (q/quit to exit): Who is a bounty hunter?\n",
      "WITH CUSTOM PROMPT: Aurra Sing, Bossk, Dengar, Embo, Hondo Ohnaka, Ketsu Onyo, Zam Wesell, and Zuckuss are all bounty hunters.\n",
      "WITHOUT CUSTOM PROMPT: A bounty hunter is an individual who is hired by a government agency or private organization to track down and capture fugitives or criminals who have skipped bail or failed to appear in court. They are typically licensed professionals who use specialized training and techniques to locate and apprehend their targets. Bounty hunters are also known as bail enforcement agents, bail recovery agents, or fugitive recovery agents.\n",
      "\n",
      "\n",
      "=====\n",
      "\n",
      "\n",
      "Ask your question (q/quit to exit): How many brothers are there?\n",
      "WITH CUSTOM PROMPT: There are eight brothers mentioned in the context.\n",
      "WITHOUT CUSTOM PROMPT: I cannot answer that question as I do not have enough information.\n",
      "\n",
      "\n",
      "=====\n",
      "\n",
      "\n",
      "Ask your question (q/quit to exit): q\n"
     ]
    }
   ],
   "source": [
    "while True:\n",
    "    q = input('Ask your question (q/quit to exit): ')\n",
    "    if q.lower() in ['q', 'quit']:\n",
    "        break\n",
    "    a = answer_question(q, df)\n",
    "    print(f'WITH CUSTOM PROMPT: {a}')\n",
    "    a_wo_custom_prompt = answer_without_custom_prompt(q, df)\n",
    "    print(f'WITHOUT CUSTOM PROMPT: {a_wo_custom_prompt}')\n",
    "    print('\\n\\n=====\\n\\n')\n",
    "    "
   ]
  },
  {
   "cell_type": "code",
   "execution_count": null,
   "id": "4421e85b",
   "metadata": {},
   "outputs": [],
   "source": []
  }
 ],
 "metadata": {
  "kernelspec": {
   "display_name": "Python 3 (ipykernel)",
   "language": "python",
   "name": "python3"
  },
  "language_info": {
   "codemirror_mode": {
    "name": "ipython",
    "version": 3
   },
   "file_extension": ".py",
   "mimetype": "text/x-python",
   "name": "python",
   "nbconvert_exporter": "python",
   "pygments_lexer": "ipython3",
   "version": "3.9.18"
  }
 },
 "nbformat": 4,
 "nbformat_minor": 5
}
